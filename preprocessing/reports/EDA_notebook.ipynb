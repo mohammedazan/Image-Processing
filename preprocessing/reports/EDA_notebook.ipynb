{
 "cells": [
  {
   "cell_type": "markdown",
   "id": "cce47da7",
   "metadata": {},
   "source": [
    "# EDA — Tree Species Classification\n",
    "\n",
    "This notebook provides an interactive review of EDA artifacts generated previously (CSV summaries, plots, preview images).\n",
    "\n",
    "Generated: 2025-08-25 13:30:00\n",
    "\n",
    "Note: Notebook reads artifacts from `reports/` (relative to this notebook)."
   ]
  },
  {
   "cell_type": "code",
   "execution_count": null,
   "id": "bacc8881",
   "metadata": {},
   "outputs": [],
   "source": [
    "# pip install suggestions (not executed here):\n",
    "# pip install pandas numpy matplotlib ipywidgets\n",
    "\n",
    "import pandas as pd\n",
    "import numpy as np\n",
    "import matplotlib.pyplot as plt\n",
    "from IPython.display import display, Image\n",
    "import ipywidgets as widgets\n",
    "from pathlib import Path\n",
    "import datetime\n",
    "\n",
    "%matplotlib inline\n",
    "plt.style.use('seaborn-whitegrid')"
   ]
  },
  {
   "cell_type": "code",
   "execution_count": null,
   "id": "5850d347",
   "metadata": {},
   "outputs": [],
   "source": [
    "reports = Path(\"reports\")\n",
    "plots_dir = reports / \"plots\"\n",
    "sample_images_dir = reports / \"sample_images\"\n",
    "\n",
    "pcpf = reports / \"point_counts_per_file.csv\"\n",
    "class_counts_p = reports / \"class_counts.csv\"\n",
    "\n",
    "missing = []\n",
    "for p in (pcpf, class_counts_p):\n",
    "    if not p.exists():\n",
    "        missing.append(str(p))\n",
    "if missing:\n",
    "    raise FileNotFoundError(f\"Missing expected report files: {missing}. Ensure the EDA artifacts exist under 'reports/'.\")\n",
    "\n",
    "df = pd.read_csv(pcpf)\n",
    "class_df = pd.read_csv(class_counts_p)\n",
    "\n",
    "print('point_counts_per_file shape:', df.shape)\n",
    "display(df.head(5))\n",
    "print('\\nclass_counts shape:', class_df.shape)\n",
    "display(class_df.head(5))"
   ]
  },
  {
   "cell_type": "markdown",
   "id": "c509a865",
   "metadata": {},
   "source": [
    "## Overview summary\n",
    "\n",
    "Below we show high-level totals and per-class counts. Use the interactive controls later to filter and preview."
   ]
  },
  {
   "cell_type": "code",
   "execution_count": null,
   "id": "eb81571c",
   "metadata": {},
   "outputs": [],
   "source": [
    "total_samples = len(df)\n",
    "n_classes = class_df.shape[0]\n",
    "print(f\"Total samples discovered: {total_samples}\")\n",
    "print(f\"Number of classes: {n_classes}\")\n",
    "\n",
    "display(class_df)"
   ]
  },
  {
   "cell_type": "code",
   "execution_count": null,
   "id": "c8cba17b",
   "metadata": {},
   "outputs": [],
   "source": [
    "# Interactive class selector + table\n",
    "classes = sorted(df['class'].unique().tolist())\n",
    "options = ['All'] + classes\n",
    "\n",
    "dropdown = widgets.Dropdown(options=options, value='All', description='Class:')\n",
    "out_table = widgets.Output()\n",
    "\n",
    "def show_filtered(change=None):\n",
    "    sel = dropdown.value\n",
    "    out_table.clear_output()\n",
    "    if sel == 'All':\n",
    "        sub = df\n",
    "    else:\n",
    "        sub = df[df['class'] == sel]\n",
    "    with out_table:\n",
    "        display(sub.head(50))\n",
    "        print('\\nSummary stats for n_points:')\n",
    "        print(sub['n_points'].describe()[['count','mean','50%','std']])\n",
    "\n",
    "dropdown.observe(lambda change: show_filtered(), names='value')\n",
    "\n",
    "container = widgets.VBox([dropdown, out_table])\n",
    "display(container)\n",
    "# initialize display for non-interactive runs\n",
    "show_filtered()"
   ]
  },
  {
   "cell_type": "code",
   "execution_count": null,
   "id": "158f9192",
   "metadata": {},
   "outputs": [],
   "source": [
    "# Preview images viewer\n",
    "preview_class_dd = widgets.Dropdown(options=classes, value=classes[0] if classes else None, description='Class:')\n",
    "preview_n_slider = widgets.IntSlider(value=3, min=1, max=5, step=1, description='Previews:')\n",
    "preview_out = widgets.Output()\n",
    "\n",
    "def show_previews(*args):\n",
    "    preview_out.clear_output()\n",
    "    cls = preview_class_dd.value\n",
    "    n = preview_n_slider.value\n",
    "    cls_rows = df[df['class'] == cls]\n",
    "    imgs = []\n",
    "    for _, r in cls_rows.head(n).iterrows():\n",
    "        # look for matching preview file\n",
    "        fname_pattern = f\"{cls}_{r['id']}_preview.png\"\n",
    "        candidate = sample_images_dir / fname_pattern\n",
    "        if candidate.exists():\n",
    "            imgs.append((candidate, candidate.name))\n",
    "    with preview_out:\n",
    "        if not imgs:\n",
    "            print(f'No preview images found for class {cls} in {sample_images_dir}')\n",
    "            return\n",
    "        # display horizontally\n",
    "        from IPython.display import HTML\n",
    "        html_parts = []\n",
    "        for pth, name in imgs:\n",
    "            try:\n",
    "                data_uri = f'<div style=\"display:inline-block;margin:8px;text-align:center;\"><img src=\"{pth.as_posix()}\" style=\"width:300px;height:auto;border:1px solid #ccc;\"/><div style=\"font-size:12px;\">{name}</div></div>'\n",
    "                html_parts.append(data_uri)\n",
    "            except Exception as e:\n",
    "                print(f'Failed to load {pth}: {e}')\n",
    "        display(HTML('\\n'.join(html_parts)))\n",
    "\n",
    "preview_class_dd.observe(lambda change: show_previews(), names='value')\n",
    "preview_n_slider.observe(lambda change: show_previews(), names='value')\n",
    "display(widgets.HBox([preview_class_dd, preview_n_slider]))\n",
    "display(preview_out)\n",
    "show_previews()"
   ]
  },
  {
   "cell_type": "code",
   "execution_count": null,
   "id": "7fc7553d",
   "metadata": {},
   "outputs": [],
   "source": [
    "# Embedded precomputed plots\n",
    "from IPython.display import display, Image\n",
    "plot_files = {\n",
    "    'class_balance': plots_dir / 'class_balance_bar.png',\n",
    "    'histogram': plots_dir / 'point_count_histogram.png',\n",
    "    'boxplot': plots_dir / 'points_boxplot_per_class.png'\n",
    "}\n",
    "for key, p in plot_files.items():\n",
    "    if p.exists():\n",
    "        display(Image(filename=str(p), width=800))\n",
    "        if key == 'class_balance':\n",
    "            display(\"**Figure:** Class balance (number of files per class). Check for heavy imbalance.\")\n",
    "        elif key == 'histogram':\n",
    "            display(\"**Figure:** Distribution of point counts across files. Look for long tails or multimodality.\")\n",
    "        else:\n",
    "            display(\"**Figure:** Boxplot of points per file by class. Watch for outliers and wide variance.\")\n",
    "    else:\n",
    "        print(f'Missing plot: {p}')"
   ]
  },
  {
   "cell_type": "code",
   "execution_count": null,
   "id": "f3e41763",
   "metadata": {},
   "outputs": [],
   "source": [
    "# Quick diagnostics\n",
    "flagged = class_df[class_df['n_files'] < 30]\n",
    "small_files = df[df['n_points'] < 100]\n",
    "largest = df.nlargest(5, 'n_points')[['id','class','n_points','path']]\n",
    "smallest = df.nsmallest(5, 'n_points')[['id','class','n_points','path']]\n",
    "\n",
    "print('Classes with <30 samples:')\n",
    "display(flagged)\n",
    "print('\\nFiles with n_points < 100:')\n",
    "display(small_files.head(20))\n",
    "print('\\nTop 5 largest by point count:')\n",
    "display(largest)\n",
    "print('\\nTop 5 smallest by point count:')\n",
    "display(smallest)\n",
    "\n",
    "display(Markdown('''\n",
    "### Actionable notes\n",
    "- Classes with very few files may need augmentation or careful evaluation splits.\n",
    "- Files with extremely small point counts should be inspected and possibly removed.\n",
    "- Large variance in points per file suggests normalization or sampling strategy is important.\n",
    "'''))"
   ]
  },
  {
   "cell_type": "markdown",
   "id": "a1aec45a",
   "metadata": {},
   "source": [
    "## Downloadable artifacts & links\n",
    "\n",
    "- [EDA Markdown report](eda_summary.md)\n",
    "- [point_counts_per_file.csv](point_counts_per_file.csv)\n",
    "- [class_counts.csv](class_counts.csv)\n",
    "- Preview images folder: `sample_images/` (open locally)\n",
    "\n",
    "To share the static site, open `reports/index.html` in a browser (created by exporting this notebook)."
   ]
  },
  {
   "cell_type": "code",
   "execution_count": null,
   "id": "c3be32f1",
   "metadata": {},
   "outputs": [],
   "source": [
    "# Export to HTML using nbconvert (when executed in an environment with jupyter installed)\n",
    "import subprocess, sys\n",
    "try:\n",
    "    subprocess.run([sys.executable, \"-m\", \"jupyter\", \"nbconvert\", \"--to\", \"html\", \"reports/EDA_notebook.ipynb\", \"--output\", \"reports/index.html\"], check=True)\n",
    "    print('Wrote reports/index.html')\n",
    "except Exception as e:\n",
    "    print('Failed to run nbconvert here. You can run the following command in your shell:')\n",
    "    print(\"jupyter nbconvert --to html reports/EDA_notebook.ipynb --output reports/index.html\")\n",
    "    print('Exception:', e)"
   ]
  },
  {
   "cell_type": "markdown",
   "id": "2e44969d",
   "metadata": {},
   "source": [
    "Equivalent shell command:\n",
    "```bash\n",
    "jupyter nbconvert --to html reports/EDA_notebook.ipynb --output reports/index.html\n",
    "```"
   ]
  },
  {
   "cell_type": "markdown",
   "id": "6bdf5387",
   "metadata": {},
   "source": [
    "## Final notes & next steps\n",
    "\n",
    "- Check flagged small classes and tiny point clouds; consider augmentation or removal.\n",
    "- Ensure consistent sampling strategy for model input (A3) and document it.\n",
    "- For Bernoulli/other discrete models consider binarization thresholds after normalization.\n",
    "- If instructors request, embed a few representative full-resolution renderings (may be large)."
   ]
  }
 ],
 "metadata": {
  "language_info": {
   "name": "python"
  }
 },
 "nbformat": 4,
 "nbformat_minor": 5
}
